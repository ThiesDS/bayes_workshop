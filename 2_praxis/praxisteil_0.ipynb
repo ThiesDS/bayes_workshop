{
 "cells": [
  {
   "cell_type": "markdown",
   "id": "amber-difference",
   "metadata": {},
   "source": [
    "# Praxisteil 0: Posterior Sampling from Scratch"
   ]
  },
  {
   "cell_type": "code",
   "execution_count": 160,
   "id": "advance-jerusalem",
   "metadata": {},
   "outputs": [
    {
     "name": "stderr",
     "output_type": "stream",
     "text": [
      "WARNING (theano.configdefaults): install mkl with `conda install mkl-service`: No module named 'mkl'\n"
     ]
    }
   ],
   "source": [
    "import pandas as pd\n",
    "import numpy as np\n",
    "import arviz as az\n",
    "import pymc3 as pm\n",
    "import scipy\n",
    "\n",
    "import matplotlib.pyplot as plt\n",
    "\n",
    "import warnings\n",
    "warnings.filterwarnings('ignore')"
   ]
  },
  {
   "cell_type": "code",
   "execution_count": 181,
   "id": "possible-anatomy",
   "metadata": {},
   "outputs": [
    {
     "data": {
      "text/html": [
       "<div>\n",
       "<style scoped>\n",
       "    .dataframe tbody tr th:only-of-type {\n",
       "        vertical-align: middle;\n",
       "    }\n",
       "\n",
       "    .dataframe tbody tr th {\n",
       "        vertical-align: top;\n",
       "    }\n",
       "\n",
       "    .dataframe thead th {\n",
       "        text-align: right;\n",
       "    }\n",
       "</style>\n",
       "<table border=\"1\" class=\"dataframe\">\n",
       "  <thead>\n",
       "    <tr style=\"text-align: right;\">\n",
       "      <th></th>\n",
       "      <th>height</th>\n",
       "    </tr>\n",
       "  </thead>\n",
       "  <tbody>\n",
       "    <tr>\n",
       "      <th>0</th>\n",
       "      <td>170.414526</td>\n",
       "    </tr>\n",
       "    <tr>\n",
       "      <th>1</th>\n",
       "      <td>182.146265</td>\n",
       "    </tr>\n",
       "    <tr>\n",
       "      <th>2</th>\n",
       "      <td>183.708331</td>\n",
       "    </tr>\n",
       "    <tr>\n",
       "      <th>3</th>\n",
       "      <td>184.754210</td>\n",
       "    </tr>\n",
       "    <tr>\n",
       "      <th>4</th>\n",
       "      <td>187.548022</td>\n",
       "    </tr>\n",
       "  </tbody>\n",
       "</table>\n",
       "</div>"
      ],
      "text/plain": [
       "       height\n",
       "0  170.414526\n",
       "1  182.146265\n",
       "2  183.708331\n",
       "3  184.754210\n",
       "4  187.548022"
      ]
     },
     "execution_count": 181,
     "metadata": {},
     "output_type": "execute_result"
    }
   ],
   "source": [
    "df = pd.read_csv('../data/dataset_sim_normalmodel.csv')\n",
    "df.head()"
   ]
  },
  {
   "cell_type": "markdown",
   "id": "special-saskatchewan",
   "metadata": {},
   "source": [
    "## Walkthrough one sample"
   ]
  },
  {
   "cell_type": "markdown",
   "id": "marine-berkeley",
   "metadata": {},
   "source": [
    "### Prior distribution"
   ]
  },
  {
   "cell_type": "code",
   "execution_count": null,
   "id": "center-hygiene",
   "metadata": {},
   "outputs": [],
   "source": [
    "# Distribution parameters\n",
    "prior_mu_mu = 170\n",
    "prior_mu_sigma = 30"
   ]
  },
  {
   "cell_type": "code",
   "execution_count": 225,
   "id": "reliable-figure",
   "metadata": {},
   "outputs": [],
   "source": [
    "# Plot distribution\n"
   ]
  },
  {
   "cell_type": "code",
   "execution_count": 226,
   "id": "separated-minneapolis",
   "metadata": {},
   "outputs": [],
   "source": [
    "# Draw one sample from this distribution\n"
   ]
  },
  {
   "cell_type": "markdown",
   "id": "antique-secondary",
   "metadata": {},
   "source": [
    "### Likelihood"
   ]
  },
  {
   "cell_type": "code",
   "execution_count": 227,
   "id": "stupid-clock",
   "metadata": {},
   "outputs": [],
   "source": [
    "# Data is assumed to be normal distributed, hence the likelihood is a normal pdf\n"
   ]
  },
  {
   "cell_type": "code",
   "execution_count": 228,
   "id": "proof-hacker",
   "metadata": {},
   "outputs": [],
   "source": [
    "# This is the data we observe (with a density estimate)\n"
   ]
  },
  {
   "cell_type": "code",
   "execution_count": 229,
   "id": "eight-atlantic",
   "metadata": {},
   "outputs": [],
   "source": [
    "# For a given location (mu) and scale (sigma) parameter, we can determine the likelihood of observations\n"
   ]
  },
  {
   "cell_type": "code",
   "execution_count": 230,
   "id": "outer-communication",
   "metadata": {},
   "outputs": [],
   "source": [
    "# Multiplication of single observation likelihoods give us the likelihood of all data\n"
   ]
  },
  {
   "cell_type": "markdown",
   "id": "banned-association",
   "metadata": {},
   "source": [
    "EXKURS: ..."
   ]
  },
  {
   "cell_type": "markdown",
   "id": "speaking-reaction",
   "metadata": {},
   "source": [
    "### Posterior distribution"
   ]
  },
  {
   "cell_type": "code",
   "execution_count": 232,
   "id": "private-horse",
   "metadata": {},
   "outputs": [],
   "source": [
    "# Number of samples to draw\n",
    "num_samples = 1000\n",
    "\n",
    "# Preallocate stuff\n",
    "df_tmp = pd.DataFrame(columns=['mu','prior_mu_prob','likelihood','posterior_mu_prob'])\n",
    "df_results = pd.DataFrame(columns=['mu','prior_mu_prob','likelihood','posterior_mu_prob'])\n",
    "\n",
    "for i in range(num_samples):\n",
    "    pass"
   ]
  },
  {
   "cell_type": "code",
   "execution_count": 233,
   "id": "continent-warrior",
   "metadata": {},
   "outputs": [],
   "source": [
    "# Plot\n"
   ]
  },
  {
   "cell_type": "markdown",
   "id": "missing-grade",
   "metadata": {},
   "source": [
    "## With pymc3 "
   ]
  },
  {
   "cell_type": "code",
   "execution_count": 235,
   "id": "adjustable-lewis",
   "metadata": {},
   "outputs": [],
   "source": [
    "with pm.Model() as normal_model:\n",
    "    pass"
   ]
  },
  {
   "cell_type": "code",
   "execution_count": 236,
   "id": "matched-hello",
   "metadata": {},
   "outputs": [],
   "source": [
    "# Sample from the model\n"
   ]
  },
  {
   "cell_type": "code",
   "execution_count": 237,
   "id": "optional-reminder",
   "metadata": {},
   "outputs": [],
   "source": [
    "# Plot posterior density \n"
   ]
  },
  {
   "cell_type": "code",
   "execution_count": 238,
   "id": "outer-karma",
   "metadata": {},
   "outputs": [],
   "source": [
    "# Extract posterior samples from trace \n"
   ]
  },
  {
   "cell_type": "code",
   "execution_count": 239,
   "id": "polished-background",
   "metadata": {},
   "outputs": [],
   "source": [
    "# Add pymc3 output to above model\n"
   ]
  },
  {
   "cell_type": "code",
   "execution_count": null,
   "id": "frank-chain",
   "metadata": {},
   "outputs": [],
   "source": []
  }
 ],
 "metadata": {
  "kernelspec": {
   "display_name": "Python 3",
   "language": "python",
   "name": "python3"
  },
  "language_info": {
   "codemirror_mode": {
    "name": "ipython",
    "version": 3
   },
   "file_extension": ".py",
   "mimetype": "text/x-python",
   "name": "python",
   "nbconvert_exporter": "python",
   "pygments_lexer": "ipython3",
   "version": "3.8.6"
  }
 },
 "nbformat": 4,
 "nbformat_minor": 5
}
