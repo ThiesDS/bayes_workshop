{
 "cells": [
  {
   "cell_type": "markdown",
   "id": "amber-difference",
   "metadata": {},
   "source": [
    "# Praxisteil 0: Posterior Sampling from Scratch"
   ]
  },
  {
   "cell_type": "code",
   "execution_count": 160,
   "id": "advance-jerusalem",
   "metadata": {},
   "outputs": [
    {
     "name": "stderr",
     "output_type": "stream",
     "text": [
      "WARNING (theano.configdefaults): install mkl with `conda install mkl-service`: No module named 'mkl'\n"
     ]
    }
   ],
   "source": [
    "import pandas as pd\n",
    "import numpy as np\n",
    "import arviz as az\n",
    "import pymc3 as pm\n",
    "import scipy\n",
    "\n",
    "import matplotlib.pyplot as plt\n",
    "\n",
    "import warnings\n",
    "warnings.filterwarnings('ignore')"
   ]
  },
  {
   "cell_type": "code",
   "execution_count": 181,
   "id": "possible-anatomy",
   "metadata": {},
   "outputs": [
    {
     "data": {
      "text/html": [
       "<div>\n",
       "<style scoped>\n",
       "    .dataframe tbody tr th:only-of-type {\n",
       "        vertical-align: middle;\n",
       "    }\n",
       "\n",
       "    .dataframe tbody tr th {\n",
       "        vertical-align: top;\n",
       "    }\n",
       "\n",
       "    .dataframe thead th {\n",
       "        text-align: right;\n",
       "    }\n",
       "</style>\n",
       "<table border=\"1\" class=\"dataframe\">\n",
       "  <thead>\n",
       "    <tr style=\"text-align: right;\">\n",
       "      <th></th>\n",
       "      <th>height</th>\n",
       "    </tr>\n",
       "  </thead>\n",
       "  <tbody>\n",
       "    <tr>\n",
       "      <th>0</th>\n",
       "      <td>170.414526</td>\n",
       "    </tr>\n",
       "    <tr>\n",
       "      <th>1</th>\n",
       "      <td>182.146265</td>\n",
       "    </tr>\n",
       "    <tr>\n",
       "      <th>2</th>\n",
       "      <td>183.708331</td>\n",
       "    </tr>\n",
       "    <tr>\n",
       "      <th>3</th>\n",
       "      <td>184.754210</td>\n",
       "    </tr>\n",
       "    <tr>\n",
       "      <th>4</th>\n",
       "      <td>187.548022</td>\n",
       "    </tr>\n",
       "  </tbody>\n",
       "</table>\n",
       "</div>"
      ],
      "text/plain": [
       "       height\n",
       "0  170.414526\n",
       "1  182.146265\n",
       "2  183.708331\n",
       "3  184.754210\n",
       "4  187.548022"
      ]
     },
     "execution_count": 181,
     "metadata": {},
     "output_type": "execute_result"
    }
   ],
   "source": [
    "df = pd.read_csv('../data/dataset_sim_normalmodel.csv')\n",
    "df.head()"
   ]
  },
  {
   "cell_type": "markdown",
   "id": "special-saskatchewan",
   "metadata": {},
   "source": [
    "## Walkthrough one sample"
   ]
  },
  {
   "cell_type": "markdown",
   "id": "marine-berkeley",
   "metadata": {},
   "source": [
    "### Prior distribution"
   ]
  },
  {
   "cell_type": "code",
   "execution_count": null,
   "id": "center-hygiene",
   "metadata": {},
   "outputs": [],
   "source": [
    "# Distribution parameters\n",
    "prior_mu_mu = 170\n",
    "prior_mu_sigma = 30"
   ]
  },
  {
   "cell_type": "code",
   "execution_count": 213,
   "id": "reliable-figure",
   "metadata": {},
   "outputs": [
    {
     "data": {
      "text/plain": [
       "[<matplotlib.lines.Line2D at 0x7fc12cb2f6d0>]"
      ]
     },
     "execution_count": 213,
     "metadata": {},
     "output_type": "execute_result"
    },
    {
     "data": {
      "image/png": "[encoded data removed]",
      "text/plain": [
       "<Figure size 432x288 with 1 Axes>"
      ]
     },
     "metadata": {
      "needs_background": "light"
     },
     "output_type": "display_data"
    }
   ],
   "source": [
    "# Plot distribution\n",
    "mu_x = np.linspace(80, 270, 200)\n",
    "mu_y = scipy.stats.norm(prior_mu_mu, prior_mu_sigma).pdf(mu_x)\n",
    "plt.plot(mu_x,mu_y)"
   ]
  },
  {
   "cell_type": "code",
   "execution_count": 211,
   "id": "separated-minneapolis",
   "metadata": {},
   "outputs": [
    {
     "data": {
      "text/plain": [
       "array([162.17418223])"
      ]
     },
     "execution_count": 211,
     "metadata": {},
     "output_type": "execute_result"
    }
   ],
   "source": [
    "# Draw one sample from this distribution\n",
    "prior_mu_draw = np.random.normal(loc=prior_mu_mu,scale=prior_mu_sigma,size=1)\n",
    "prior_mu_draw"
   ]
  },
  {
   "cell_type": "markdown",
   "id": "antique-secondary",
   "metadata": {},
   "source": [
    "### Likelihood"
   ]
  },
  {
   "cell_type": "code",
   "execution_count": 183,
   "id": "stupid-clock",
   "metadata": {},
   "outputs": [
    {
     "data": {
      "text/plain": [
       "0.3989422804014327"
      ]
     },
     "execution_count": 183,
     "metadata": {},
     "output_type": "execute_result"
    }
   ],
   "source": [
    "# Data is assumed to be normal distributed, hence the likelihood is a normal pdf\n",
    "scipy.stats.norm.pdf(x=3, loc=3, scale=1)"
   ]
  },
  {
   "cell_type": "code",
   "execution_count": 184,
   "id": "proof-hacker",
   "metadata": {},
   "outputs": [
    {
     "data": {
      "text/plain": [
       "<AxesSubplot:>"
      ]
     },
     "execution_count": 184,
     "metadata": {},
     "output_type": "execute_result"
    },
    {
     "data": {
      "image/png": "[encoded data removed]",
      "text/plain": [
       "<Figure size 432x288 with 1 Axes>"
      ]
     },
     "metadata": {
      "needs_background": "light"
     },
     "output_type": "display_data"
    }
   ],
   "source": [
    "# This is the data we observe (with a density estimate)\n",
    "az.plot_kde(df.height,rug=True)"
   ]
  },
  {
   "cell_type": "code",
   "execution_count": 216,
   "id": "eight-atlantic",
   "metadata": {},
   "outputs": [
    {
     "data": {
      "text/plain": [
       "array([0.01778282, 0.01983259, 0.01960716, 0.01939143, 0.01857597,\n",
       "       0.01967963, 0.01930703, 0.01993521, 0.01704598, 0.01622954,\n",
       "       0.01918909, 0.01893452, 0.01277543, 0.01762812, 0.01987787,\n",
       "       0.01933924, 0.01731225, 0.01992208, 0.0195082 , 0.01979082,\n",
       "       0.01942528, 0.01929737, 0.01692028, 0.01993849, 0.01993483,\n",
       "       0.01879926, 0.01592161, 0.01979015, 0.01887191, 0.01701254,\n",
       "       0.01689972, 0.01375464, 0.01669625, 0.01081884, 0.01959333])"
      ]
     },
     "execution_count": 216,
     "metadata": {},
     "output_type": "execute_result"
    }
   ],
   "source": [
    "# For a given location (mu) and scale (sigma) parameter, we can determine the likelihood of observations\n",
    "obs_likelihood = scipy.stats.norm.pdf(x=df.height, loc=180, scale=20)\n",
    "obs_likelihood"
   ]
  },
  {
   "cell_type": "code",
   "execution_count": 217,
   "id": "outer-communication",
   "metadata": {},
   "outputs": [
    {
     "data": {
      "text/plain": [
       "8.62347383763791e-62"
      ]
     },
     "execution_count": 217,
     "metadata": {},
     "output_type": "execute_result"
    }
   ],
   "source": [
    "# Multiplication of single observation likelihoods give us the likelihood of all data\n",
    "data_likelihood = np.prod(obs_likelihood)\n",
    "data_likelihood"
   ]
  },
  {
   "cell_type": "markdown",
   "id": "banned-association",
   "metadata": {},
   "source": [
    "EXKURS: Die Parameter, welche die höchste Likelihood erzielen, wären die besten Schätzer auf Basis unserer Stichprobe ohne Vorwissen (Prior). In der frequentistischen Statistik nennt man dieses Verfahren Maximum Likelihood Estimation (MLE). "
   ]
  },
  {
   "cell_type": "markdown",
   "id": "speaking-reaction",
   "metadata": {},
   "source": [
    "### Posterior distribution"
   ]
  },
  {
   "cell_type": "code",
   "execution_count": 218,
   "id": "private-horse",
   "metadata": {},
   "outputs": [
    {
     "data": {
      "text/html": [
       "<div>\n",
       "<style scoped>\n",
       "    .dataframe tbody tr th:only-of-type {\n",
       "        vertical-align: middle;\n",
       "    }\n",
       "\n",
       "    .dataframe tbody tr th {\n",
       "        vertical-align: top;\n",
       "    }\n",
       "\n",
       "    .dataframe thead th {\n",
       "        text-align: right;\n",
       "    }\n",
       "</style>\n",
       "<table border=\"1\" class=\"dataframe\">\n",
       "  <thead>\n",
       "    <tr style=\"text-align: right;\">\n",
       "      <th></th>\n",
       "      <th>mu</th>\n",
       "      <th>prior_mu_prob</th>\n",
       "      <th>likelihood</th>\n",
       "      <th>posterior_mu_prob</th>\n",
       "    </tr>\n",
       "  </thead>\n",
       "  <tbody>\n",
       "    <tr>\n",
       "      <th>0</th>\n",
       "      <td>167.004581</td>\n",
       "      <td>0.013232</td>\n",
       "      <td>3.708169e-65</td>\n",
       "      <td>4.906632e-67</td>\n",
       "    </tr>\n",
       "    <tr>\n",
       "      <th>0</th>\n",
       "      <td>180.963536</td>\n",
       "      <td>0.012439</td>\n",
       "      <td>8.506215e-62</td>\n",
       "      <td>1.058094e-63</td>\n",
       "    </tr>\n",
       "    <tr>\n",
       "      <th>0</th>\n",
       "      <td>168.327625</td>\n",
       "      <td>0.013277</td>\n",
       "      <td>1.604443e-64</td>\n",
       "      <td>2.130288e-66</td>\n",
       "    </tr>\n",
       "    <tr>\n",
       "      <th>0</th>\n",
       "      <td>132.748838</td>\n",
       "      <td>0.006152</td>\n",
       "      <td>8.721300e-105</td>\n",
       "      <td>5.364947e-107</td>\n",
       "    </tr>\n",
       "    <tr>\n",
       "      <th>0</th>\n",
       "      <td>169.284871</td>\n",
       "      <td>0.013294</td>\n",
       "      <td>4.208496e-64</td>\n",
       "      <td>5.594901e-66</td>\n",
       "    </tr>\n",
       "  </tbody>\n",
       "</table>\n",
       "</div>"
      ],
      "text/plain": [
       "           mu  prior_mu_prob     likelihood  posterior_mu_prob\n",
       "0  167.004581       0.013232   3.708169e-65       4.906632e-67\n",
       "0  180.963536       0.012439   8.506215e-62       1.058094e-63\n",
       "0  168.327625       0.013277   1.604443e-64       2.130288e-66\n",
       "0  132.748838       0.006152  8.721300e-105      5.364947e-107\n",
       "0  169.284871       0.013294   4.208496e-64       5.594901e-66"
      ]
     },
     "execution_count": 218,
     "metadata": {},
     "output_type": "execute_result"
    }
   ],
   "source": [
    "# Number of samples to draw\n",
    "num_samples = 1000\n",
    "\n",
    "# Preallocate stuff\n",
    "df_tmp = pd.DataFrame(columns=['mu','prior_mu_prob','likelihood','posterior_mu_prob'])\n",
    "df_results = pd.DataFrame(columns=['mu','prior_mu_prob','likelihood','posterior_mu_prob'])\n",
    "\n",
    "for i in range(num_samples):\n",
    "\n",
    "    # draw one mu from prior distribution\n",
    "    mu = np.random.normal(loc=prior_mu_mu,scale=20,size=1)\n",
    "\n",
    "    # Probability of prior mu\n",
    "    prior_mu_prob = scipy.stats.norm.pdf(x=mu, loc=prior_mu_mu, scale=prior_mu_sigma)\n",
    "    \n",
    "    # evaluate mu based on the data\n",
    "    likelihood = np.prod(scipy.stats.norm.pdf(x=df.height, loc=mu, scale=20))\n",
    "    \n",
    "    # Posterior is proportional to prior times likelihood\n",
    "    posterior_mu_prob = prior_mu_prob * likelihood\n",
    "    \n",
    "    # store \n",
    "    df_tmp['mu'] = mu\n",
    "    df_tmp['prior_mu_prob'] = prior_mu_prob\n",
    "    df_tmp['likelihood'] = likelihood\n",
    "    df_tmp['posterior_mu_prob'] = posterior_mu_prob\n",
    "    df_results = df_results.append(df_tmp)\n",
    "    \n",
    "df_results.head(5)"
   ]
  },
  {
   "cell_type": "code",
   "execution_count": 219,
   "id": "continent-warrior",
   "metadata": {},
   "outputs": [
    {
     "data": {
      "text/plain": [
       "(100.0, 250.0)"
      ]
     },
     "execution_count": 219,
     "metadata": {},
     "output_type": "execute_result"
    },
    {
     "data": {
      "image/png": "[encoded data removed]",
      "text/plain": [
       "<Figure size 432x288 with 1 Axes>"
      ]
     },
     "metadata": {
      "needs_background": "light"
     },
     "output_type": "display_data"
    }
   ],
   "source": [
    "# Sort values\n",
    "df_results.sort_values('mu',inplace=True)\n",
    "\n",
    "# Plot\n",
    "plt.plot(df_results.mu,df_results.prior_mu_prob/np.sum(df_results.prior_mu_prob), color='red')\n",
    "plt.plot(df_results.mu,df_results.posterior_mu_prob/np.sum(df_results.posterior_mu_prob))\n",
    "plt.xlim([100, 250])"
   ]
  },
  {
   "cell_type": "markdown",
   "id": "missing-grade",
   "metadata": {},
   "source": [
    "## With pymc3 "
   ]
  },
  {
   "cell_type": "code",
   "execution_count": 220,
   "id": "adjustable-lewis",
   "metadata": {},
   "outputs": [],
   "source": [
    "with pm.Model() as normal_model:\n",
    "    \n",
    "    # Prior: mu as normal distribution\n",
    "    mu = pm.Normal('mu', mu=170, sigma=30)\n",
    "    \n",
    "    # Normal Likelihood with mu prior and fixed sigma inkl. observations \n",
    "    y = pm.Normal('y',mu=mu,sigma=20,observed=df.height)"
   ]
  },
  {
   "cell_type": "code",
   "execution_count": 221,
   "id": "matched-hello",
   "metadata": {},
   "outputs": [
    {
     "name": "stderr",
     "output_type": "stream",
     "text": [
      "/opt/conda/lib/python3.8/site-packages/pymc3/sampling.py:465: FutureWarning: In an upcoming release, pm.sample will return an `arviz.InferenceData` object instead of a `MultiTrace` by default. You can pass return_inferencedata=True or return_inferencedata=False to be safe and silence this warning.\n",
      "  warnings.warn(\n",
      "Auto-assigning NUTS sampler...\n",
      "Initializing NUTS using jitter+adapt_diag...\n",
      "Multiprocess sampling (4 chains in 4 jobs)\n",
      "NUTS: [mu]\n"
     ]
    },
    {
     "data": {
      "text/html": [
       "\n",
       "    <div>\n",
       "        <style>\n",
       "            /* Turns off some styling */\n",
       "            progress {\n",
       "                /* gets rid of default border in Firefox and Opera. */\n",
       "                border: none;\n",
       "                /* Needs to be in here for Safari polyfill so background images work as expected. */\n",
       "                background-size: auto;\n",
       "            }\n",
       "            .progress-bar-interrupted, .progress-bar-interrupted::-webkit-progress-bar {\n",
       "                background: #F44336;\n",
       "            }\n",
       "        </style>\n",
       "      <progress value='8000' class='' max='8000' style='width:300px; height:20px; vertical-align: middle;'></progress>\n",
       "      100.00% [8000/8000 00:02<00:00 Sampling 4 chains, 0 divergences]\n",
       "    </div>\n",
       "    "
      ],
      "text/plain": [
       "<IPython.core.display.HTML object>"
      ]
     },
     "metadata": {},
     "output_type": "display_data"
    },
    {
     "name": "stderr",
     "output_type": "stream",
     "text": [
      "Sampling 4 chains for 1_000 tune and 1_000 draw iterations (4_000 + 4_000 draws total) took 3 seconds.\n"
     ]
    }
   ],
   "source": [
    "# Sample from the model\n",
    "with normal_model:\n",
    "    trace_nm = pm.sample(**{'chains': 4,'cores': 4})"
   ]
  },
  {
   "cell_type": "code",
   "execution_count": 222,
   "id": "optional-reminder",
   "metadata": {},
   "outputs": [
    {
     "name": "stderr",
     "output_type": "stream",
     "text": [
      "/opt/conda/lib/python3.8/site-packages/arviz/data/io_pymc3.py:87: FutureWarning: Using `from_pymc3` without the model will be deprecated in a future release. Not using the model will return less accurate and less useful results. Make sure you use the model argument or call from_pymc3 within a model context.\n",
      "  warnings.warn(\n"
     ]
    },
    {
     "data": {
      "text/plain": [
       "<AxesSubplot:title={'center':'mu'}>"
      ]
     },
     "execution_count": 222,
     "metadata": {},
     "output_type": "execute_result"
    },
    {
     "data": {
      "image/png": "[encoded data removed]",
      "text/plain": [
       "<Figure size 432x288 with 1 Axes>"
      ]
     },
     "metadata": {
      "needs_background": "light"
     },
     "output_type": "display_data"
    }
   ],
   "source": [
    "# Plot posterior density \n",
    "az.plot_posterior(trace_nm, var_names=['mu'])"
   ]
  },
  {
   "cell_type": "code",
   "execution_count": 223,
   "id": "outer-karma",
   "metadata": {},
   "outputs": [
    {
     "data": {
      "text/plain": [
       "array([184.71964373, 175.3821247 , 177.04741119, ..., 175.80873502,\n",
       "       178.46914302, 178.46914302])"
      ]
     },
     "execution_count": 223,
     "metadata": {},
     "output_type": "execute_result"
    }
   ],
   "source": [
    "# Extract posterior samples from trace \n",
    "trace_nm['mu']"
   ]
  },
  {
   "cell_type": "code",
   "execution_count": 224,
   "id": "polished-background",
   "metadata": {},
   "outputs": [
    {
     "data": {
      "text/plain": [
       "(100.0, 250.0)"
      ]
     },
     "execution_count": 224,
     "metadata": {},
     "output_type": "execute_result"
    },
    {
     "data": {
      "image/png": "[encoded data removed]",
      "text/plain": [
       "<Figure size 432x288 with 1 Axes>"
      ]
     },
     "metadata": {
      "needs_background": "light"
     },
     "output_type": "display_data"
    }
   ],
   "source": [
    "# Add pymc3 output to above model\n",
    "\n",
    "plt.plot(df_results.mu,df_results.prior_mu_prob/np.sum(df_results.prior_mu_prob), color='red')\n",
    "plt.plot(df_results.mu,df_results.posterior_mu_prob/np.sum(df_results.posterior_mu_prob))\n",
    "\n",
    "plt.plot(df_results.mu,density(df_results.mu)/np.sum(density(df_results.mu)))\n",
    "\n",
    "plt.xlim([100, 250])\n"
   ]
  }
 ],
 "metadata": {
  "kernelspec": {
   "display_name": "Python 3",
   "language": "python",
   "name": "python3"
  },
  "language_info": {
   "codemirror_mode": {
    "name": "ipython",
    "version": 3
   },
   "file_extension": ".py",
   "mimetype": "text/x-python",
   "name": "python",
   "nbconvert_exporter": "python",
   "pygments_lexer": "ipython3",
   "version": "3.8.6"
  }
 },
 "nbformat": 4,
 "nbformat_minor": 5
}
