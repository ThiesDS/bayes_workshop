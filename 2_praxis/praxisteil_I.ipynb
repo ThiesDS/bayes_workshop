{
 "cells": [
  {
   "cell_type": "markdown",
   "metadata": {},
   "source": [
    "# Praxisteil I: Bayessche Lineare Modelle"
   ]
  },
  {
   "cell_type": "markdown",
   "metadata": {},
   "source": [
    "__Bayesian Workflow__\n",
    "\n",
    "1. Problemstellung\n",
    "2. Exploration der Daten\n",
    "3. Bauen des Modells\n",
    "4. Prior Predictive Check\n",
    "5. Modell Fitting\n",
    "6. Convergence Check\n",
    "7. Posterior Predictive Check\n",
    "8. Parameter Inferenz\n",
    "9. Modell verbessern"
   ]
  },
  {
   "cell_type": "code",
   "execution_count": 2,
   "metadata": {},
   "outputs": [
    {
     "name": "stderr",
     "output_type": "stream",
     "text": [
      "WARNING (theano.configdefaults): install mkl with `conda install mkl-service`: No module named 'mkl'\n"
     ]
    }
   ],
   "source": [
    "import pandas as pd\n",
    "import matplotlib.pyplot as plt\n",
    "\n",
    "import pymc3 as pm\n",
    "import arviz as az\n",
    "import numpy as np\n",
    "\n",
    "import math\n",
    "import warnings\n",
    "warnings.filterwarnings('ignore')\n",
    "\n",
    "kwargs_sampler = {'chains': 4,'cores': 4}"
   ]
  },
  {
   "cell_type": "code",
   "execution_count": 18,
   "metadata": {},
   "outputs": [],
   "source": [
    "# Plotting functions\n",
    "def plot_prior_predictive(df,lm_prior_predictive,pred_name='sales_pred'):\n",
    "    plt.figure(figsize=(16,8))\n",
    "    az.plot_hdi(df['Price'], lm_prior_predictive[pred_name],color='gray')\n",
    "    plt.plot(df['Price'], lm_prior_predictive['beta_0'].mean() + lm_prior_predictive['beta_1'].mean()*df['Price'],c='k')\n",
    "    plt.xlabel('Price', fontsize=20)\n",
    "    plt.ylabel('Sales', fontsize=20)\n",
    "\n",
    "def plot_model_with_hdi(df,ppc,beta_0_est,beta_1_est):\n",
    "    plt.figure(figsize=(16,8))\n",
    "    az.plot_hdi(df['Price'], ppc['sales_pred'],color='gray',figsize=(16,8))\n",
    "    plt.plot(df['Price'],df['Sales'],'.b')\n",
    "    plt.plot(df['Price'], beta_0_est + beta_1_est*df['Price'],c='k')\n",
    "    plt.xlabel('Price')\n",
    "    plt.ylabel('Sales')\n",
    "\n",
    "def plot_data(df,fit=False): \n",
    "    plt.figure(figsize=(16,8))\n",
    "    if fit:\n",
    "        coef = np.polyfit(df['Price'],df['Sales'],1)\n",
    "        plt.plot(df['Price'],df['Sales'],'.b')\n",
    "        plt.plot(df['Price'], coef[1] + coef[0]*df['Price'],c='k')\n",
    "    else:\n",
    "        plt.scatter(df['Price'],df['Sales'])\n",
    "    plt.xlabel('Price', fontsize=20)\n",
    "    plt.ylabel('Sales', fontsize=20)"
   ]
  },
  {
   "cell_type": "markdown",
   "metadata": {},
   "source": [
    "## Problemstellung"
   ]
  },
  {
   "cell_type": "markdown",
   "metadata": {},
   "source": [
    "Du wurdest beauftragt den Absatz des Unternehmens vorherzusagen.\n",
    "\n",
    "Als erfahrener Bayesianer machst du dich ans Werk und überlegst dir, was den größten Einfluss auf den Absatz haben könnte. Nach deiner Recherche stellst du die Hypothese auf, dass der Preis wahrscheinlich den größten Einfluss hat und dieser negativ auf den Absatz wirkt. Diese Hypothese willst du mit einem ersten Modell überprüfen.\n",
    "\n",
    "Die Daten hast du bereits gequeried."
   ]
  },
  {
   "cell_type": "markdown",
   "metadata": {},
   "source": [
    "## Exploration der Daten"
   ]
  },
  {
   "cell_type": "code",
   "execution_count": 6,
   "metadata": {},
   "outputs": [
    {
     "data": {
      "text/html": [
       "<div>\n",
       "<style scoped>\n",
       "    .dataframe tbody tr th:only-of-type {\n",
       "        vertical-align: middle;\n",
       "    }\n",
       "\n",
       "    .dataframe tbody tr th {\n",
       "        vertical-align: top;\n",
       "    }\n",
       "\n",
       "    .dataframe thead th {\n",
       "        text-align: right;\n",
       "    }\n",
       "</style>\n",
       "<table border=\"1\" class=\"dataframe\">\n",
       "  <thead>\n",
       "    <tr style=\"text-align: right;\">\n",
       "      <th></th>\n",
       "      <th>Sales</th>\n",
       "      <th>Price</th>\n",
       "      <th>Store</th>\n",
       "    </tr>\n",
       "  </thead>\n",
       "  <tbody>\n",
       "    <tr>\n",
       "      <th>0</th>\n",
       "      <td>48.484536</td>\n",
       "      <td>5.749164</td>\n",
       "      <td>0</td>\n",
       "    </tr>\n",
       "    <tr>\n",
       "      <th>1</th>\n",
       "      <td>43.640838</td>\n",
       "      <td>4.796067</td>\n",
       "      <td>0</td>\n",
       "    </tr>\n",
       "    <tr>\n",
       "      <th>2</th>\n",
       "      <td>48.609230</td>\n",
       "      <td>4.817825</td>\n",
       "      <td>0</td>\n",
       "    </tr>\n",
       "    <tr>\n",
       "      <th>3</th>\n",
       "      <td>45.924189</td>\n",
       "      <td>5.680656</td>\n",
       "      <td>0</td>\n",
       "    </tr>\n",
       "    <tr>\n",
       "      <th>4</th>\n",
       "      <td>57.832635</td>\n",
       "      <td>3.181501</td>\n",
       "      <td>0</td>\n",
       "    </tr>\n",
       "  </tbody>\n",
       "</table>\n",
       "</div>"
      ],
      "text/plain": [
       "       Sales     Price  Store\n",
       "0  48.484536  5.749164      0\n",
       "1  43.640838  4.796067      0\n",
       "2  48.609230  4.817825      0\n",
       "3  45.924189  5.680656      0\n",
       "4  57.832635  3.181501      0"
      ]
     },
     "execution_count": 6,
     "metadata": {},
     "output_type": "execute_result"
    }
   ],
   "source": [
    "# Load data\n",
    "df = pd.read_csv('../data/dataset_sim.csv')\n",
    "df.head()"
   ]
  },
  {
   "cell_type": "code",
   "execution_count": 12,
   "metadata": {},
   "outputs": [
    {
     "data": {
      "image/png": "[encoded data removed]",
      "text/plain": [
       "<Figure size 1440x720 with 1 Axes>"
      ]
     },
     "metadata": {
      "needs_background": "light"
     },
     "output_type": "display_data"
    }
   ],
   "source": [
    "plot_data(df)"
   ]
  },
  {
   "cell_type": "markdown",
   "metadata": {},
   "source": [
    "## Bauen des Modells"
   ]
  },
  {
   "cell_type": "markdown",
   "metadata": {},
   "source": [
    "### Bayessches Lineares Modell"
   ]
  },
  {
   "cell_type": "markdown",
   "metadata": {},
   "source": [
    "Du stellst das folgende probabilistische Modell auf, das den Absatz als bedingte Normalverteilung beschreibt:"
   ]
  },
  {
   "cell_type": "markdown",
   "metadata": {},
   "source": [
    "$$\n",
    "\\begin{align}\n",
    "y|X\\beta &\\sim N(\\mu,\\epsilon) \\\\\n",
    "y &\\sim N(X\\beta,\\epsilon)\n",
    "\\end{align}\n",
    "$$"
   ]
  },
  {
   "cell_type": "markdown",
   "metadata": {},
   "source": [
    "oder in diesem Falle konkret:"
   ]
  },
  {
   "cell_type": "markdown",
   "metadata": {},
   "source": [
    "$$\n",
    "s \\sim N(\\mu=\\beta_0 + \\beta_1 p,\\epsilon)\n",
    "$$"
   ]
  },
  {
   "cell_type": "markdown",
   "metadata": {},
   "source": [
    "### Prior Distributions"
   ]
  },
  {
   "cell_type": "markdown",
   "metadata": {},
   "source": [
    "Es gilt die Parameter $\\beta_0$ und $\\beta_1$ zu schätzen. In der Bayesschen Statistik werden ALLE Unbekannten mit einer Verteilung über ihre möglichen, plausiblen Werte beschrieben. Diese wird A-Priori-Verteilung genannt. "
   ]
  },
  {
   "cell_type": "markdown",
   "metadata": {},
   "source": [
    "In diesem Falle gilt es also Verteilungen für $\\beta_0$, $\\beta_1$ und $\\epsilon$ zu finden. Eine Möglichkeit wäre:"
   ]
  },
  {
   "cell_type": "markdown",
   "metadata": {},
   "source": [
    "$$\n",
    "\\begin{align}\n",
    "\\beta_0 &= N(\\mu_{\\beta_0}, \\sigma_{\\beta_0}) \\\\\n",
    "\\beta_1 &= N(\\mu_{\\beta_1}, \\sigma_{\\beta_1}) \\\\\n",
    "\\epsilon &= |N(0, \\sigma_{\\epsilon})| \\\\\n",
    "\\end{align}\n",
    "$$"
   ]
  },
  {
   "cell_type": "markdown",
   "metadata": {},
   "source": [
    "Wobei du bereits deine Annahme eines negativen Zusammenhangs in die Priors einbauen kannst, indem du $\\mu_{\\beta_1}<0$ setzt."
   ]
  },
  {
   "cell_type": "markdown",
   "metadata": {},
   "source": [
    "### Pymc3 implementierung"
   ]
  },
  {
   "cell_type": "markdown",
   "metadata": {},
   "source": [
    "Dieses Modell wird in pymc3 wie folgt gebaut:"
   ]
  },
  {
   "cell_type": "code",
   "execution_count": 22,
   "metadata": {},
   "outputs": [],
   "source": [
    "with pm.Model() as linear_model:\n",
    "    "
   ]
  },
  {
   "cell_type": "markdown",
   "metadata": {},
   "source": [
    "## Prior Predictive Check"
   ]
  },
  {
   "cell_type": "code",
   "execution_count": 23,
   "metadata": {},
   "outputs": [],
   "source": []
  },
  {
   "cell_type": "code",
   "execution_count": null,
   "metadata": {},
   "outputs": [],
   "source": []
  },
  {
   "cell_type": "markdown",
   "metadata": {},
   "source": [
    "## Posterior Inference (Model Fitting)"
   ]
  },
  {
   "cell_type": "markdown",
   "metadata": {},
   "source": [
    "### Sampling from the posterior"
   ]
  },
  {
   "cell_type": "code",
   "execution_count": null,
   "metadata": {},
   "outputs": [],
   "source": []
  },
  {
   "cell_type": "markdown",
   "metadata": {},
   "source": [
    "### Convergence Check"
   ]
  },
  {
   "cell_type": "code",
   "execution_count": null,
   "metadata": {},
   "outputs": [],
   "source": []
  },
  {
   "cell_type": "markdown",
   "metadata": {},
   "source": [
    "## Convergence Check"
   ]
  },
  {
   "cell_type": "markdown",
   "metadata": {},
   "source": [
    "More information about MCMC sampling and convergence checks: "
   ]
  },
  {
   "cell_type": "code",
   "execution_count": null,
   "metadata": {},
   "outputs": [],
   "source": []
  },
  {
   "cell_type": "markdown",
   "metadata": {},
   "source": [
    "### Posterior Predictive Check"
   ]
  },
  {
   "cell_type": "code",
   "execution_count": null,
   "metadata": {},
   "outputs": [],
   "source": []
  },
  {
   "cell_type": "markdown",
   "metadata": {},
   "source": [
    "## Parameter Inference"
   ]
  },
  {
   "cell_type": "code",
   "execution_count": null,
   "metadata": {},
   "outputs": [],
   "source": []
  },
  {
   "cell_type": "markdown",
   "metadata": {},
   "source": [
    "### Exkurs: MLE / MAP Estimate"
   ]
  },
  {
   "cell_type": "code",
   "execution_count": null,
   "metadata": {},
   "outputs": [],
   "source": []
  },
  {
   "cell_type": "markdown",
   "metadata": {},
   "source": [
    "## Conclusion"
   ]
  },
  {
   "cell_type": "code",
   "execution_count": null,
   "metadata": {},
   "outputs": [],
   "source": []
  }
 ],
 "metadata": {
  "kernelspec": {
   "display_name": "Python 3",
   "language": "python",
   "name": "python3"
  },
  "language_info": {
   "codemirror_mode": {
    "name": "ipython",
    "version": 3
   },
   "file_extension": ".py",
   "mimetype": "text/x-python",
   "name": "python",
   "nbconvert_exporter": "python",
   "pygments_lexer": "ipython3",
   "version": "3.8.6"
  },
  "toc": {
   "base_numbering": 1,
   "nav_menu": {},
   "number_sections": true,
   "sideBar": true,
   "skip_h1_title": false,
   "title_cell": "Table of Contents",
   "title_sidebar": "Contents",
   "toc_cell": false,
   "toc_position": {},
   "toc_section_display": true,
   "toc_window_display": true
  }
 },
 "nbformat": 4,
 "nbformat_minor": 4
}
