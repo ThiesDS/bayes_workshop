{
 "cells": [
  {
   "cell_type": "markdown",
   "metadata": {},
   "source": [
    "# Praxisteil"
   ]
  },
  {
   "cell_type": "markdown",
   "metadata": {},
   "source": [
    "__Agenda__\n",
    "\n",
    "1. Problemstellung\n",
    "2. Daten\n",
    "3. Zusammen Programmieren: Bayessches Lineares Modell\n",
    "    1. Modell in pymc3 bauen\n",
    "    2. Posterior Distribution of Parameters\n",
    "    3. Posterior Predictive Checks\n",
    "2. Zusammen Programmieren: Bayessches Hierarchisches Lineares Modell\n",
    "    1. Modell in pymc3 bauen\n",
    "    2. Posterior Distribution of Parameters\n",
    "    3. Posterior Predictive Checks\n",
    "    4. Modellvergleich\n",
    "3. Aufgabe: Modellierung\n",
    "    1. Modell in pymc3 bauen\n",
    "    2. Posterior Distribution of Parameters    \n",
    "    3. Posterior Predictive Checks\n",
    "    "
   ]
  },
  {
   "cell_type": "markdown",
   "metadata": {},
   "source": [
    "## Problemstellung"
   ]
  },
  {
   "cell_type": "markdown",
   "metadata": {},
   "source": [
    "Du wurdest beauftragt den Absatz des Unternehmens vorherzusagen.\n",
    "\n",
    "Als erfahrener Bayesianer machst du dich ans Werk und überlegst dir, was den größten Einfluss auf den Absatz haben könnte. Du stellst die Hypothese auf, dass der Preis wahrscheinlich den größten Einfluss hat. Diese Hypothese willst du mit einem ersten Modell überprüfen.\n",
    "\n",
    "Die Daten hast du gequeried und aufbereitet."
   ]
  },
  {
   "cell_type": "markdown",
   "metadata": {},
   "source": [
    "## Daten"
   ]
  },
  {
   "cell_type": "code",
   "execution_count": 16,
   "metadata": {},
   "outputs": [],
   "source": [
    "import pandas as pd\n",
    "import matplotlib.pyplot as plt"
   ]
  },
  {
   "cell_type": "code",
   "execution_count": 2,
   "metadata": {},
   "outputs": [
    {
     "data": {
      "text/html": [
       "<div>\n",
       "<style scoped>\n",
       "    .dataframe tbody tr th:only-of-type {\n",
       "        vertical-align: middle;\n",
       "    }\n",
       "\n",
       "    .dataframe tbody tr th {\n",
       "        vertical-align: top;\n",
       "    }\n",
       "\n",
       "    .dataframe thead th {\n",
       "        text-align: right;\n",
       "    }\n",
       "</style>\n",
       "<table border=\"1\" class=\"dataframe\">\n",
       "  <thead>\n",
       "    <tr style=\"text-align: right;\">\n",
       "      <th></th>\n",
       "      <th>Sales</th>\n",
       "      <th>Price</th>\n",
       "      <th>Store</th>\n",
       "    </tr>\n",
       "  </thead>\n",
       "  <tbody>\n",
       "    <tr>\n",
       "      <th>0</th>\n",
       "      <td>48.484536</td>\n",
       "      <td>5.749164</td>\n",
       "      <td>0</td>\n",
       "    </tr>\n",
       "    <tr>\n",
       "      <th>1</th>\n",
       "      <td>43.640838</td>\n",
       "      <td>4.796067</td>\n",
       "      <td>0</td>\n",
       "    </tr>\n",
       "    <tr>\n",
       "      <th>2</th>\n",
       "      <td>48.609230</td>\n",
       "      <td>4.817825</td>\n",
       "      <td>0</td>\n",
       "    </tr>\n",
       "    <tr>\n",
       "      <th>3</th>\n",
       "      <td>45.924189</td>\n",
       "      <td>5.680656</td>\n",
       "      <td>0</td>\n",
       "    </tr>\n",
       "    <tr>\n",
       "      <th>4</th>\n",
       "      <td>57.832635</td>\n",
       "      <td>3.181501</td>\n",
       "      <td>0</td>\n",
       "    </tr>\n",
       "  </tbody>\n",
       "</table>\n",
       "</div>"
      ],
      "text/plain": [
       "       Sales     Price  Store\n",
       "0  48.484536  5.749164      0\n",
       "1  43.640838  4.796067      0\n",
       "2  48.609230  4.817825      0\n",
       "3  45.924189  5.680656      0\n",
       "4  57.832635  3.181501      0"
      ]
     },
     "execution_count": 2,
     "metadata": {},
     "output_type": "execute_result"
    }
   ],
   "source": [
    "# Load data\n",
    "df = pd.read_csv('../data/dataset_1.csv')\n",
    "df.head()"
   ]
  },
  {
   "cell_type": "markdown",
   "metadata": {},
   "source": [
    "## Bayessches Lineares Modell"
   ]
  },
  {
   "cell_type": "markdown",
   "metadata": {},
   "source": [
    "Du stellst das folgende probabilistische Modell auf, das den Absatz als bedingte Normalverteilung beschreibt:"
   ]
  },
  {
   "cell_type": "markdown",
   "metadata": {},
   "source": [
    "$$\n",
    "\\begin{align}\n",
    "y|X\\beta &\\sim N(\\mu,\\epsilon) \\\\\n",
    "y &\\sim N(X\\beta,\\epsilon)\n",
    "\\end{align}\n",
    "$$"
   ]
  },
  {
   "cell_type": "markdown",
   "metadata": {},
   "source": [
    "oder in diesem Falle konkret:"
   ]
  },
  {
   "cell_type": "markdown",
   "metadata": {},
   "source": [
    "$$\n",
    "sales \\sim N(\\mu=\\beta_0 + \\beta_1 \\times price,\\epsilon)\n",
    "$$"
   ]
  },
  {
   "cell_type": "markdown",
   "metadata": {},
   "source": [
    "Es gilt die Parameter $\\beta_0$ und $\\beta_1$ zu schätzen. In der Bayesschen Statistik werden ALLE Unbekannten mit einer Verteilung über ihre möglichen, plausiblen Werte beschrieben. Diese wird A-Priori-Verteilung genannt. "
   ]
  },
  {
   "cell_type": "markdown",
   "metadata": {},
   "source": [
    "In diesem Falle gilt es also Verteilungen für $\\beta_0$, $\\beta_1$ und $\\epsilon$ zu finden. Eine Möglichkeit wäre:"
   ]
  },
  {
   "cell_type": "markdown",
   "metadata": {},
   "source": [
    "$$\n",
    "\\begin{align}\n",
    "\\beta_0 &= N(\\mu_{\\beta_0}, \\sigma_{\\beta_0}) \\\\\n",
    "\\beta_1 &= N(\\mu_{\\beta_0}, \\sigma_{\\beta_1}) \\\\\n",
    "\\epsilon &= |N(0, \\sigma_{\\epsilon})| \\\\\n",
    "\\end{align}\n",
    "$$"
   ]
  },
  {
   "cell_type": "markdown",
   "metadata": {},
   "source": [
    "### Modell in pymc3 bauen"
   ]
  },
  {
   "cell_type": "markdown",
   "metadata": {},
   "source": [
    "Dieses Modell wird in pymc3 wie folgt gebaut:"
   ]
  },
  {
   "cell_type": "code",
   "execution_count": 17,
   "metadata": {},
   "outputs": [],
   "source": [
    "import pymc3 as pm\n",
    "import arviz as az\n",
    "import numpy as np\n",
    "\n",
    "import math\n",
    "import warnings\n",
    "warnings.filterwarnings('ignore')"
   ]
  },
  {
   "cell_type": "code",
   "execution_count": 18,
   "metadata": {},
   "outputs": [
    {
     "data": {
      "text/plain": [
       "'3.10.0'"
      ]
     },
     "execution_count": 18,
     "metadata": {},
     "output_type": "execute_result"
    }
   ],
   "source": [
    "pm.__version__"
   ]
  },
  {
   "cell_type": "code",
   "execution_count": 7,
   "metadata": {},
   "outputs": [],
   "source": [
    "# Plotting functions\n",
    "def plot_model_with_hdi(df,ppc,beta_0_est,beta_1_est):\n",
    "    plt.figure()\n",
    "    az.plot_hdi(df['Price'], ppc['sales_pred'],color='gray',figsize=(20,10))\n",
    "    plt.plot(df['Price'],df['Sales'],'.b')\n",
    "    plt.plot(df['Price'], beta_0_est + beta_1_est*df['Price'],c='k')\n",
    "    plt.xlabel('Price')\n",
    "    plt.ylabel('Sales')"
   ]
  },
  {
   "cell_type": "code",
   "execution_count": null,
   "metadata": {},
   "outputs": [
    {
     "name": "stderr",
     "output_type": "stream",
     "text": [
      "Auto-assigning NUTS sampler...\n",
      "Initializing NUTS using jitter+adapt_diag...\n"
     ]
    }
   ],
   "source": [
    "with pm.Model() as linear_model:\n",
    "    \n",
    "    # Hyperparameters\n",
    "    beta_0 = pm.Normal('beta_0', mu=0, sd=100)\n",
    "    beta_1 = pm.Normal('beta_1', mu=0, sd=50)\n",
    "    eps = pm.HalfNormal('eps', 5)\n",
    "    \n",
    "    # Calculate mean of normal distribution (conditioning)\n",
    "    #mu = pm.Deterministic('mu', beta_0 + beta_1*df['Price'])\n",
    "    mu = beta_0 + beta_1*df['Price']\n",
    "    \n",
    "    # Conditional normal distribution\n",
    "    sales_pred = pm.Normal('sales_pred',mu=mu,sd=eps,observed=df['Sales'])\n",
    "    \n",
    "    # Trace\n",
    "    trace_linear_model = pm.sample(500)"
   ]
  },
  {
   "cell_type": "markdown",
   "metadata": {},
   "source": [
    "### Posterior Distributions of Parameters"
   ]
  },
  {
   "cell_type": "code",
   "execution_count": null,
   "metadata": {},
   "outputs": [],
   "source": [
    "# Analyze the results\n",
    "#az.plot_trace(trace_linear_model)\n",
    "az.plot_posterior(trace_linear_model) "
   ]
  },
  {
   "cell_type": "code",
   "execution_count": null,
   "metadata": {},
   "outputs": [],
   "source": [
    "az.summary(trace_linear_model)"
   ]
  },
  {
   "cell_type": "code",
   "execution_count": null,
   "metadata": {},
   "outputs": [],
   "source": [
    "# The estamates of the parameters are the mean of all samples\n",
    "beta_0_est = trace_linear_model['beta_0'].mean()\n",
    "beta_1_est = trace_linear_model['beta_1'].mean()\n",
    "eps_est = trace_linear_model['eps'].mean()\n",
    "\n",
    "print(f'BAY beta_0_est: {beta_0_est}')\n",
    "print(f'BAY beta_1_est: {beta_1_est}')"
   ]
  },
  {
   "cell_type": "code",
   "execution_count": null,
   "metadata": {},
   "outputs": [],
   "source": [
    "# Compaison with MLE Estimate\n",
    "b, m = np.polynomial.polynomial.polyfit(df['Price'], df['Sales'], 1)\n",
    "print(f'MLE beta_0_est: {b}')\n",
    "print(f'MLE beta_1_est: {m}')"
   ]
  },
  {
   "cell_type": "markdown",
   "metadata": {},
   "source": [
    "### Posterior Predictive Check"
   ]
  },
  {
   "cell_type": "code",
   "execution_count": null,
   "metadata": {},
   "outputs": [],
   "source": [
    "# Predict observations from the model by posterior predictive sampling\n",
    "ppc_lm = pm.sample_posterior_predictive(trace_linear_model, model=linear_model, random_seed=58)"
   ]
  },
  {
   "cell_type": "code",
   "execution_count": null,
   "metadata": {},
   "outputs": [],
   "source": [
    "# Plot fitted model with 94 CI\n",
    "plot_model_with_hdi(df,ppc_lm,beta_0_est,beta_1_est)"
   ]
  },
  {
   "cell_type": "code",
   "execution_count": null,
   "metadata": {},
   "outputs": [],
   "source": [
    "idata = az.from_pymc3(trace_linear_model, posterior_predictive=ppc_lm)\n",
    "az.plot_ppc(idata)"
   ]
  },
  {
   "cell_type": "markdown",
   "metadata": {},
   "source": [
    "## Bayessches Hierarchisches Lineares Modell"
   ]
  },
  {
   "cell_type": "code",
   "execution_count": 18,
   "metadata": {},
   "outputs": [],
   "source": [
    "# Plotting\n",
    "def plot_fitted_models_by_group(y,x,num_groups,group_idx,trace):\n",
    "    \n",
    "    # Get number of rows and columns to plot\n",
    "    if num_groups<=3:\n",
    "        num_cols = num_groups\n",
    "    else:\n",
    "        num_cols = 3\n",
    "    num_rows = math.ceil(num_groups/3)\n",
    "\n",
    "    # Set up plot\n",
    "    fig, ax = plt.subplots(num_rows, num_cols, figsize=(20,10), sharex=True, sharey=True)\n",
    "    ax = np.ravel(ax)\n",
    "\n",
    "    # Plot each group\n",
    "    x_range = np.linspace(x.min(), x.max(), 10)\n",
    "    j = 0\n",
    "    k = len(group_idx[group_idx==j])\n",
    "    for i in range(num_groups):\n",
    "        ax[i].scatter(x[j:k], y[j:k])\n",
    "        ax[i].set_title(f\"Group {i+1}\", fontsize=15)\n",
    "        \n",
    "        alpha_m = trace['beta_0'][:,i].mean()\n",
    "        beta_m = trace['beta_1'][:, i].mean()\n",
    "        ax[i].plot(x_range, alpha_m + beta_m * x_range, c='k',\n",
    "                   label=f'y = {alpha_m:.2f} + {beta_m:.2f} * x')\n",
    "        \n",
    "        j += (group_idx==i).sum()\n",
    "        k += (group_idx==i).sum()\n",
    "\n",
    "    # Set common x and y axis\n",
    "    fig.text(0.5, 0.07, 'Price', ha='center', fontsize=20)\n",
    "    fig.text(0.09, 0.5, 'Sales', va='center', rotation='vertical', fontsize=20)"
   ]
  },
  {
   "cell_type": "markdown",
   "metadata": {},
   "source": [
    "### Modell in pymc3 bauen"
   ]
  },
  {
   "cell_type": "code",
   "execution_count": 19,
   "metadata": {},
   "outputs": [
    {
     "name": "stderr",
     "output_type": "stream",
     "text": [
      "Auto-assigning NUTS sampler...\n",
      "Initializing NUTS using jitter+adapt_diag...\n",
      "Multiprocess sampling (4 chains in 4 jobs)\n",
      "NUTS: [eps, beta_1, beta_0_scaled, beta_1_sigma, beta_1_mu, beta_0_sigma, beta_0_mu]\n"
     ]
    },
    {
     "data": {
      "text/html": [
       "\n",
       "    <div>\n",
       "        <style>\n",
       "            /* Turns off some styling */\n",
       "            progress {\n",
       "                /* gets rid of default border in Firefox and Opera. */\n",
       "                border: none;\n",
       "                /* Needs to be in here for Safari polyfill so background images work as expected. */\n",
       "                background-size: auto;\n",
       "            }\n",
       "            .progress-bar-interrupted, .progress-bar-interrupted::-webkit-progress-bar {\n",
       "                background: #F44336;\n",
       "            }\n",
       "        </style>\n",
       "      <progress value='6000' class='' max='6000' style='width:300px; height:20px; vertical-align: middle;'></progress>\n",
       "      100.00% [6000/6000 00:09<00:00 Sampling 4 chains, 0 divergences]\n",
       "    </div>\n",
       "    "
      ],
      "text/plain": [
       "<IPython.core.display.HTML object>"
      ]
     },
     "metadata": {},
     "output_type": "display_data"
    },
    {
     "name": "stderr",
     "output_type": "stream",
     "text": [
      "Sampling 4 chains for 1_000 tune and 500 draw iterations (4_000 + 2_000 draws total) took 22 seconds.\n"
     ]
    }
   ],
   "source": [
    "# Centering for better convergence\n",
    "df['Price_centered'] = df['Price'] - df['Price'].mean()\n",
    "\n",
    "# Group variables\n",
    "group_idx = df['Store']\n",
    "num_groups = df['Store'].nunique()\n",
    "\n",
    "with pm.Model() as hierarchical_linear_model:\n",
    "    \n",
    "    # Priors for beta_0 prior (Hyperprior)\n",
    "    beta_0_mu = pm.Normal('beta_0_mu', mu=0, sd = 100)\n",
    "    beta_0_sigma = pm.HalfNormal('beta_0_sigma', sd = 100)\n",
    "    \n",
    "    # Priors for beta_1 prior (Hyperprior)\n",
    "    beta_1_mu = pm.Normal('beta_1_mu', mu=0, sd = 100)\n",
    "    beta_1_sigma = pm.HalfNormal('beta_1_sigma', sd = 100)\n",
    "    \n",
    "    # Hyperparameters\n",
    "    beta_0_scaled = pm.Normal('beta_0_scaled', mu=beta_0_mu, sd=beta_0_sigma, shape=num_groups)\n",
    "    beta_1 = pm.Normal('beta_1', mu=beta_1_mu, sd=beta_1_sigma, shape=num_groups)\n",
    "    eps = pm.HalfNormal('eps', 5)\n",
    "    \n",
    "    # Calculate mean of normal distribution (conditioning)\n",
    "    mu = beta_0_scaled[group_idx] + beta_1[group_idx]*df['Price_centered']\n",
    "    \n",
    "    # Conditional normal distribution\n",
    "    sales_pred = pm.Normal('sales_pred',mu=mu,sd=eps,observed=df['Sales'])\n",
    "    \n",
    "    beta_0 = pm.Deterministic('beta_0', beta_0_scaled - beta_1 * df['Price'].mean())\n",
    "    \n",
    "    # Trace\n",
    "    trace_hierarchical_linear_model = pm.sample(500)"
   ]
  },
  {
   "cell_type": "markdown",
   "metadata": {},
   "source": [
    "### Posterior Distributions of Parameters"
   ]
  },
  {
   "cell_type": "code",
   "execution_count": 20,
   "metadata": {},
   "outputs": [
    {
     "data": {
      "text/plain": [
       "array([<AxesSubplot:title={'center':'94.0% HDI'}>], dtype=object)"
      ]
     },
     "execution_count": 20,
     "metadata": {},
     "output_type": "execute_result"
    },
    {
     "data": {
      "image/png": "[encoded data removed]",
      "text/plain": [
       "<Figure size 432x460.8 with 1 Axes>"
      ]
     },
     "metadata": {
      "needs_background": "light"
     },
     "output_type": "display_data"
    }
   ],
   "source": [
    "# Analyze the results\n",
    "#az.plot_trace(trace_hierarchical_linear_model, var_names=['beta_0','beta_1'])\n",
    "#az.plot_posterior(trace_hierarchical_linear_model) \n",
    "az.plot_forest(trace_hierarchical_linear_model, var_names='beta_1')"
   ]
  },
  {
   "cell_type": "markdown",
   "metadata": {},
   "source": [
    "### Posterior Predictive Check"
   ]
  },
  {
   "cell_type": "code",
   "execution_count": 21,
   "metadata": {},
   "outputs": [
    {
     "data": {
      "text/html": [
       "\n",
       "    <div>\n",
       "        <style>\n",
       "            /* Turns off some styling */\n",
       "            progress {\n",
       "                /* gets rid of default border in Firefox and Opera. */\n",
       "                border: none;\n",
       "                /* Needs to be in here for Safari polyfill so background images work as expected. */\n",
       "                background-size: auto;\n",
       "            }\n",
       "            .progress-bar-interrupted, .progress-bar-interrupted::-webkit-progress-bar {\n",
       "                background: #F44336;\n",
       "            }\n",
       "        </style>\n",
       "      <progress value='2000' class='' max='2000' style='width:300px; height:20px; vertical-align: middle;'></progress>\n",
       "      100.00% [2000/2000 00:03<00:00]\n",
       "    </div>\n",
       "    "
      ],
      "text/plain": [
       "<IPython.core.display.HTML object>"
      ]
     },
     "metadata": {},
     "output_type": "display_data"
    }
   ],
   "source": [
    "# Predict observations from the model by posterior predictive sampling\n",
    "#ppc_lhm = pm.sample_posterior_predictive(trace_hierarchical_linear_model, model=hierarchical_linear_model, random_seed=58)\n",
    "\n",
    "with hierarchical_linear_model:\n",
    "    ppc_lhm = pm.sample_posterior_predictive(\n",
    "        trace_hierarchical_linear_model, var_names=['beta_0','beta_1','sales_pred'], random_seed=58\n",
    "    )"
   ]
  },
  {
   "cell_type": "code",
   "execution_count": 22,
   "metadata": {},
   "outputs": [
    {
     "data": {
      "image/png": "[encoded data removed]",
      "text/plain": [
       "<Figure size 1440x720 with 6 Axes>"
      ]
     },
     "metadata": {
      "needs_background": "light"
     },
     "output_type": "display_data"
    }
   ],
   "source": [
    "plot_fitted_models_by_group(df['Sales'],df['Price'],num_groups,group_idx,trace_hierarchical_linear_model)"
   ]
  },
  {
   "cell_type": "code",
   "execution_count": 23,
   "metadata": {},
   "outputs": [
    {
     "data": {
      "text/plain": [
       "<AxesSubplot:xlabel='sales_pred'>"
      ]
     },
     "execution_count": 23,
     "metadata": {},
     "output_type": "execute_result"
    },
    {
     "data": {
      "image/png": "[encoded data removed]",
      "text/plain": [
       "<Figure size 432x288 with 1 Axes>"
      ]
     },
     "metadata": {
      "needs_background": "light"
     },
     "output_type": "display_data"
    }
   ],
   "source": [
    "idata = az.from_pymc3(trace_hierarchical_linear_model, posterior_predictive=ppc_lhm)\n",
    "az.plot_ppc(idata)"
   ]
  },
  {
   "cell_type": "markdown",
   "metadata": {},
   "source": [
    "### Modellvergleich"
   ]
  },
  {
   "cell_type": "code",
   "execution_count": 28,
   "metadata": {},
   "outputs": [
    {
     "data": {
      "text/html": [
       "<div>\n",
       "<style scoped>\n",
       "    .dataframe tbody tr th:only-of-type {\n",
       "        vertical-align: middle;\n",
       "    }\n",
       "\n",
       "    .dataframe tbody tr th {\n",
       "        vertical-align: top;\n",
       "    }\n",
       "\n",
       "    .dataframe thead th {\n",
       "        text-align: right;\n",
       "    }\n",
       "</style>\n",
       "<table border=\"1\" class=\"dataframe\">\n",
       "  <thead>\n",
       "    <tr style=\"text-align: right;\">\n",
       "      <th></th>\n",
       "      <th>rank</th>\n",
       "      <th>waic</th>\n",
       "      <th>p_waic</th>\n",
       "      <th>d_waic</th>\n",
       "      <th>weight</th>\n",
       "      <th>se</th>\n",
       "      <th>dse</th>\n",
       "      <th>warning</th>\n",
       "      <th>waic_scale</th>\n",
       "    </tr>\n",
       "  </thead>\n",
       "  <tbody>\n",
       "    <tr>\n",
       "      <th>Hierarchical linear model</th>\n",
       "      <td>0</td>\n",
       "      <td>-262.027</td>\n",
       "      <td>10.2094</td>\n",
       "      <td>0</td>\n",
       "      <td>1</td>\n",
       "      <td>6.6352</td>\n",
       "      <td>0</td>\n",
       "      <td>True</td>\n",
       "      <td>log</td>\n",
       "    </tr>\n",
       "    <tr>\n",
       "      <th>Linear model</th>\n",
       "      <td>1</td>\n",
       "      <td>-397.122</td>\n",
       "      <td>2.9217</td>\n",
       "      <td>135.095</td>\n",
       "      <td>6.81118e-46</td>\n",
       "      <td>10.5996</td>\n",
       "      <td>9.65859</td>\n",
       "      <td>False</td>\n",
       "      <td>log</td>\n",
       "    </tr>\n",
       "  </tbody>\n",
       "</table>\n",
       "</div>"
      ],
      "text/plain": [
       "                          rank     waic   p_waic   d_waic       weight  \\\n",
       "Hierarchical linear model    0 -262.027  10.2094        0            1   \n",
       "Linear model                 1 -397.122   2.9217  135.095  6.81118e-46   \n",
       "\n",
       "                                se      dse warning waic_scale  \n",
       "Hierarchical linear model   6.6352        0    True        log  \n",
       "Linear model               10.5996  9.65859   False        log  "
      ]
     },
     "execution_count": 28,
     "metadata": {},
     "output_type": "execute_result"
    }
   ],
   "source": [
    "cmp_df = az.compare({'Linear model': trace_linear_model,\n",
    "                    'Hierarchical linear model': trace_hierarchical_linear_model},ic='waic')\n",
    "cmp_df"
   ]
  },
  {
   "cell_type": "code",
   "execution_count": 31,
   "metadata": {},
   "outputs": [
    {
     "data": {
      "image/png": "[encoded data removed]",
      "text/plain": [
       "<Figure size 864x288 with 1 Axes>"
      ]
     },
     "metadata": {
      "needs_background": "light"
     },
     "output_type": "display_data"
    }
   ],
   "source": [
    "ax = az.plot_compare(cmp_df, figsize=(12, 4))"
   ]
  },
  {
   "cell_type": "markdown",
   "metadata": {},
   "source": [
    "## Modellierung von Umsatz"
   ]
  },
  {
   "cell_type": "markdown",
   "metadata": {},
   "source": [
    "# Code Snippets"
   ]
  },
  {
   "cell_type": "markdown",
   "metadata": {},
   "source": [
    "Aus der visuellen Inspektion lässt sich bereits ein Zusammenhang vermuten. Du weißt aber, dass es sich nur um eine Stichprobe handelt und benötigst ein Modell, das die statistische Unsicherheit einer Stichprobenziehung berücksichtigt, um generalisierte Aussagen ableiten zu können.  "
   ]
  },
  {
   "cell_type": "code",
   "execution_count": null,
   "metadata": {},
   "outputs": [],
   "source": [
    "# Plot functions\n",
    "\n",
    "plt.figure(figsize=(20,10))\n",
    "plt.scatter(df['Price'], df['Sales'])\n",
    "plt.xlabel('Price', fontsize=20)\n",
    "plt.ylabel('Sales', fontsize=20)\n",
    "plt.show()"
   ]
  },
  {
   "cell_type": "code",
   "execution_count": null,
   "metadata": {},
   "outputs": [],
   "source": [
    "# Prior predictive sampling\n",
    "ppc_lm = pm.sample_prior_predictive(model=linear_model, random_seed=58)\n",
    "\n",
    "plt.figure(figsize=(20,10))\n",
    "az.plot_hpd(df['Price'], ppc_lm['sales_pred'], credible_interval=0.5, color='gray')\n",
    "az.plot_hpd(df['Price'], ppc_lm['sales_pred'], credible_interval=0.94, color='gray')\n",
    "plt.xlabel('Price')\n",
    "plt.ylabel('Sales')"
   ]
  }
 ],
 "metadata": {
  "kernelspec": {
   "display_name": "Python 3",
   "language": "python",
   "name": "python3"
  },
  "language_info": {
   "codemirror_mode": {
    "name": "ipython",
    "version": 3
   },
   "file_extension": ".py",
   "mimetype": "text/x-python",
   "name": "python",
   "nbconvert_exporter": "python",
   "pygments_lexer": "ipython3",
   "version": "3.8.6"
  },
  "toc": {
   "base_numbering": 1,
   "nav_menu": {},
   "number_sections": true,
   "sideBar": true,
   "skip_h1_title": false,
   "title_cell": "Table of Contents",
   "title_sidebar": "Contents",
   "toc_cell": false,
   "toc_position": {},
   "toc_section_display": true,
   "toc_window_display": true
  }
 },
 "nbformat": 4,
 "nbformat_minor": 4
}
