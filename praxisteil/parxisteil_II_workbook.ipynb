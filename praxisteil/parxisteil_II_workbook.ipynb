{
 "cells": [
  {
   "cell_type": "markdown",
   "id": "atmospheric-genesis",
   "metadata": {},
   "source": [
    "# Praxisteil II: Bayessche Hierarchische Modelle"
   ]
  },
  {
   "cell_type": "markdown",
   "id": "banner-dryer",
   "metadata": {},
   "source": [
    "__Bayesian Workflow__\n",
    "\n",
    "1. Exploration der Daten\n",
    "2. Bauen des Modells\n",
    "3. Prior Predictive Check\n",
    "4. Modell Fitting\n",
    "5. Convergence Check\n",
    "6. Posterior Predictive Check\n",
    "7. Parameter Inferenz\n",
    "\n",
    "8. Modellvergleich (LM vs. BHM)\n",
    "\n",
    "9. Modell verbessern"
   ]
  },
  {
   "cell_type": "code",
   "execution_count": 2,
   "id": "broad-winter",
   "metadata": {},
   "outputs": [
    {
     "name": "stderr",
     "output_type": "stream",
     "text": [
      "WARNING (theano.configdefaults): install mkl with `conda install mkl-service`: No module named 'mkl'\n"
     ]
    }
   ],
   "source": [
    "import pandas as pd\n",
    "import matplotlib.pyplot as plt\n",
    "\n",
    "import pymc3 as pm\n",
    "import arviz as az\n",
    "import numpy as np\n",
    "\n",
    "import math\n",
    "import warnings\n",
    "warnings.filterwarnings('ignore')\n",
    "\n",
    "kwargs_sampler = {'chains': 4,'cores': 4}#, 'return_inferencedata': True}"
   ]
  },
  {
   "cell_type": "code",
   "execution_count": 17,
   "id": "detected-recovery",
   "metadata": {},
   "outputs": [],
   "source": [
    "# Plotting\n",
    "def plot_by_group(y,x,num_groups,group_idx,trace=None,fit=False):\n",
    "    \n",
    "    # Get number of rows and columns to plot\n",
    "    if num_groups<=3:\n",
    "        num_cols = num_groups\n",
    "    else:\n",
    "        num_cols = 3\n",
    "    num_rows = math.ceil(num_groups/3)\n",
    "\n",
    "    # Set up plot\n",
    "    fig, ax = plt.subplots(num_rows, num_cols, figsize=(20,10), sharex=True, sharey=True)\n",
    "    ax = np.ravel(ax)\n",
    "\n",
    "    # Plot each group\n",
    "    x_range = np.linspace(x.min(), x.max(), 10)\n",
    "    j = 0\n",
    "    k = len(group_idx[group_idx==j])\n",
    "    for i in range(num_groups):\n",
    "        ax[i].scatter(x[j:k], y[j:k])\n",
    "        ax[i].set_title(f\"Group {i+1}\", fontsize=15)\n",
    "        \n",
    "        if trace is not None:\n",
    "            alpha_m = trace['beta_0'][:,i].mean()\n",
    "            beta_m = trace['beta_1'][:, i].mean()\n",
    "            \n",
    "            ax[i].plot(x_range, alpha_m + beta_m * x_range, c='k',\n",
    "                       label=f'y = {alpha_m:.2f} + {beta_m:.2f} * x')\n",
    "        if fit:\n",
    "            coef = np.polyfit(x[j:k], y[j:k],1)\n",
    "            alpha_m = coef[1]\n",
    "            beta_m = coef[0]\n",
    "        \n",
    "            ax[i].plot(x_range, alpha_m + beta_m * x_range, c='k',\n",
    "                       label=f'y = {alpha_m:.2f} + {beta_m:.2f} * x')\n",
    "            \n",
    "        \n",
    "        j += (group_idx==i).sum()\n",
    "        k += (group_idx==i).sum()\n",
    "\n",
    "    # Set common x and y axis\n",
    "    fig.text(0.5, 0.07, 'Price', ha='center', fontsize=20)\n",
    "    fig.text(0.09, 0.5, 'Sales', va='center', rotation='vertical', fontsize=20)"
   ]
  },
  {
   "cell_type": "markdown",
   "id": "neutral-remove",
   "metadata": {},
   "source": [
    "## Exploration der Daten"
   ]
  },
  {
   "cell_type": "code",
   "execution_count": 3,
   "id": "bound-validity",
   "metadata": {},
   "outputs": [
    {
     "data": {
      "text/html": [
       "<div>\n",
       "<style scoped>\n",
       "    .dataframe tbody tr th:only-of-type {\n",
       "        vertical-align: middle;\n",
       "    }\n",
       "\n",
       "    .dataframe tbody tr th {\n",
       "        vertical-align: top;\n",
       "    }\n",
       "\n",
       "    .dataframe thead th {\n",
       "        text-align: right;\n",
       "    }\n",
       "</style>\n",
       "<table border=\"1\" class=\"dataframe\">\n",
       "  <thead>\n",
       "    <tr style=\"text-align: right;\">\n",
       "      <th></th>\n",
       "      <th>Sales</th>\n",
       "      <th>Price</th>\n",
       "      <th>Store</th>\n",
       "    </tr>\n",
       "  </thead>\n",
       "  <tbody>\n",
       "    <tr>\n",
       "      <th>0</th>\n",
       "      <td>48.484536</td>\n",
       "      <td>5.749164</td>\n",
       "      <td>0</td>\n",
       "    </tr>\n",
       "    <tr>\n",
       "      <th>1</th>\n",
       "      <td>43.640838</td>\n",
       "      <td>4.796067</td>\n",
       "      <td>0</td>\n",
       "    </tr>\n",
       "    <tr>\n",
       "      <th>2</th>\n",
       "      <td>48.609230</td>\n",
       "      <td>4.817825</td>\n",
       "      <td>0</td>\n",
       "    </tr>\n",
       "    <tr>\n",
       "      <th>3</th>\n",
       "      <td>45.924189</td>\n",
       "      <td>5.680656</td>\n",
       "      <td>0</td>\n",
       "    </tr>\n",
       "    <tr>\n",
       "      <th>4</th>\n",
       "      <td>57.832635</td>\n",
       "      <td>3.181501</td>\n",
       "      <td>0</td>\n",
       "    </tr>\n",
       "  </tbody>\n",
       "</table>\n",
       "</div>"
      ],
      "text/plain": [
       "       Sales     Price  Store\n",
       "0  48.484536  5.749164      0\n",
       "1  43.640838  4.796067      0\n",
       "2  48.609230  4.817825      0\n",
       "3  45.924189  5.680656      0\n",
       "4  57.832635  3.181501      0"
      ]
     },
     "execution_count": 3,
     "metadata": {},
     "output_type": "execute_result"
    }
   ],
   "source": [
    "# Load data\n",
    "df = pd.read_csv('../data/dataset_sim.csv')\n",
    "df.head()"
   ]
  },
  {
   "cell_type": "code",
   "execution_count": 18,
   "id": "latin-mailing",
   "metadata": {},
   "outputs": [
    {
     "data": {
      "image/png": "[encoded data removed]",
      "text/plain": [
       "<Figure size 1440x720 with 6 Axes>"
      ]
     },
     "metadata": {
      "needs_background": "light"
     },
     "output_type": "display_data"
    }
   ],
   "source": [
    "# Plot sales by groups\n",
    "num_groups = df.Store.nunique()\n",
    "group_idx = df.Store.to_numpy()\n",
    "\n",
    "plot_by_group(df['Sales'],df['Price'],num_groups,group_idx)"
   ]
  },
  {
   "cell_type": "markdown",
   "id": "adapted-image",
   "metadata": {},
   "source": [
    "## Bauen des Modells"
   ]
  },
  {
   "cell_type": "markdown",
   "id": "entertaining-preference",
   "metadata": {},
   "source": [
    "### Bayessches Hierarchisches Modell"
   ]
  },
  {
   "cell_type": "code",
   "execution_count": null,
   "id": "monthly-hotel",
   "metadata": {},
   "outputs": [],
   "source": []
  },
  {
   "cell_type": "markdown",
   "id": "modern-retrieval",
   "metadata": {},
   "source": [
    "### Pymc3 Implementierung"
   ]
  },
  {
   "cell_type": "code",
   "execution_count": 24,
   "id": "entitled-choir",
   "metadata": {},
   "outputs": [],
   "source": []
  },
  {
   "cell_type": "markdown",
   "id": "paperback-coverage",
   "metadata": {},
   "source": [
    "## Prior predictive Check"
   ]
  },
  {
   "cell_type": "markdown",
   "id": "interesting-world",
   "metadata": {},
   "source": [
    "More information about MCMC sampling and convergence checks: "
   ]
  },
  {
   "cell_type": "code",
   "execution_count": 21,
   "id": "atlantic-budapest",
   "metadata": {},
   "outputs": [],
   "source": []
  },
  {
   "cell_type": "markdown",
   "id": "exact-tooth",
   "metadata": {},
   "source": [
    "## Model fitting"
   ]
  },
  {
   "cell_type": "code",
   "execution_count": null,
   "id": "ceramic-cooper",
   "metadata": {},
   "outputs": [],
   "source": []
  },
  {
   "cell_type": "markdown",
   "id": "local-madonna",
   "metadata": {},
   "source": [
    "## Convergence Check"
   ]
  },
  {
   "cell_type": "code",
   "execution_count": null,
   "id": "finite-lawrence",
   "metadata": {},
   "outputs": [],
   "source": []
  },
  {
   "cell_type": "markdown",
   "id": "backed-oregon",
   "metadata": {},
   "source": [
    "## Posterior Predictive Check"
   ]
  },
  {
   "cell_type": "code",
   "execution_count": null,
   "id": "accompanied-south",
   "metadata": {},
   "outputs": [],
   "source": []
  },
  {
   "cell_type": "markdown",
   "id": "extensive-transcript",
   "metadata": {},
   "source": [
    "## Parameter inference"
   ]
  },
  {
   "cell_type": "code",
   "execution_count": null,
   "id": "eight-vision",
   "metadata": {},
   "outputs": [],
   "source": []
  },
  {
   "cell_type": "markdown",
   "id": "hybrid-engagement",
   "metadata": {},
   "source": [
    "## Modellvergleich"
   ]
  },
  {
   "cell_type": "code",
   "execution_count": null,
   "id": "asian-system",
   "metadata": {},
   "outputs": [],
   "source": []
  },
  {
   "cell_type": "markdown",
   "id": "finite-thumb",
   "metadata": {},
   "source": [
    "## Conclusion"
   ]
  },
  {
   "cell_type": "code",
   "execution_count": null,
   "id": "sunset-hawaii",
   "metadata": {},
   "outputs": [],
   "source": []
  }
 ],
 "metadata": {
  "kernelspec": {
   "display_name": "Python 3",
   "language": "python",
   "name": "python3"
  },
  "language_info": {
   "codemirror_mode": {
    "name": "ipython",
    "version": 3
   },
   "file_extension": ".py",
   "mimetype": "text/x-python",
   "name": "python",
   "nbconvert_exporter": "python",
   "pygments_lexer": "ipython3",
   "version": "3.8.6"
  }
 },
 "nbformat": 4,
 "nbformat_minor": 5
}
